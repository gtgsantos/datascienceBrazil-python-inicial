{
 "cells": [
  {
   "cell_type": "markdown",
   "metadata": {},
   "source": [
    "  ##### Faça um Programa que mostre a mensagem \"Alo mundo\" na tela."
   ]
  },
  {
   "cell_type": "code",
   "execution_count": 1,
   "metadata": {},
   "outputs": [
    {
     "name": "stdout",
     "output_type": "stream",
     "text": [
      "Alo mundo\n"
     ]
    }
   ],
   "source": [
    "print (\"Alo mundo\")"
   ]
  },
  {
   "cell_type": "markdown",
   "metadata": {},
   "source": [
    "##### Faça um Programa que peça um número e então mostre a mensagem O número informado foi [número]."
   ]
  },
  {
   "cell_type": "code",
   "execution_count": 4,
   "metadata": {},
   "outputs": [
    {
     "name": "stdout",
     "output_type": "stream",
     "text": [
      "0\n",
      "O número informado foi 0\n"
     ]
    }
   ],
   "source": [
    "X = input()\n",
    "print ('O número informado foi ' + X)"
   ]
  },
  {
   "cell_type": "markdown",
   "metadata": {},
   "source": [
    "##### Faça um Programa que peça dois números e imprima a soma."
   ]
  },
  {
   "cell_type": "code",
   "execution_count": 10,
   "metadata": {},
   "outputs": [
    {
     "name": "stdout",
     "output_type": "stream",
     "text": [
      "1\n",
      "2\n",
      "X + Y = 3\n"
     ]
    }
   ],
   "source": [
    "x = input()\n",
    "y = input()\n",
    "res = int(x) + int(y)\n",
    "print ('X + Y = ' + str(res))"
   ]
  },
  {
   "cell_type": "markdown",
   "metadata": {},
   "source": [
    "##### Faça um Programa que peça as 4 notas bimestrais e mostre a média."
   ]
  },
  {
   "cell_type": "code",
   "execution_count": 13,
   "metadata": {},
   "outputs": [
    {
     "name": "stdout",
     "output_type": "stream",
     "text": [
      "1\n",
      "2\n",
      "3\n",
      "4\n",
      "media: 2.5\n"
     ]
    }
   ],
   "source": [
    "nota1 = int(input())\n",
    "nota2 = int(input())\n",
    "nota3 = int(input())\n",
    "nota4 = int(input())\n",
    "media = nota1 + nota2 + nota3 + nota4\n",
    "media = media / 4\n",
    "print('media: ' + str(media))\n",
    "\n"
   ]
  },
  {
   "cell_type": "markdown",
   "metadata": {},
   "source": [
    "#### Faça um Programa que converta metros para centímetros."
   ]
  },
  {
   "cell_type": "code",
   "execution_count": 16,
   "metadata": {},
   "outputs": [
    {
     "name": "stdout",
     "output_type": "stream",
     "text": [
      "8\n",
      "8 metros tem 800 centimetros\n"
     ]
    }
   ],
   "source": [
    "metros = int(input())\n",
    "centimetros = metros * 100\n",
    "\n",
    "print(str(metros) + ' metros tem ' + str(centimetros) + ' centimetros')\n",
    "\n",
    "\n",
    "\n"
   ]
  },
  {
   "cell_type": "markdown",
   "metadata": {},
   "source": [
    "#### Faça um Programa que peça o raio de um círculo, calcule e mostre sua área."
   ]
  },
  {
   "cell_type": "code",
   "execution_count": 18,
   "metadata": {},
   "outputs": [
    {
     "name": "stdout",
     "output_type": "stream",
     "text": [
      "4\n",
      "a area é 50.24\n"
     ]
    }
   ],
   "source": [
    "raio = int(input())\n",
    "\n",
    "area = 3.14 * (raio ** 2)\n",
    "\n",
    "print('a area é ' + str(area))"
   ]
  },
  {
   "cell_type": "markdown",
   "metadata": {},
   "source": [
    "#### Faça um Programa que calcule a área de um quadrado, em seguida mostre o dobro desta área para o usuário."
   ]
  },
  {
   "cell_type": "code",
   "execution_count": 20,
   "metadata": {},
   "outputs": [
    {
     "name": "stdout",
     "output_type": "stream",
     "text": [
      "8\n",
      "lado: 8 - quadrado: 64 - dobro: 128\n"
     ]
    }
   ],
   "source": [
    "lado = int(input())\n",
    "\n",
    "quadrado = lado ** 2\n",
    "\n",
    "dobroQuadrado = quadrado * 2\n",
    "\n",
    "print('lado: ' + str(lado) +  ' - quadrado: ' + str(quadrado) + ' - dobro: ' + str(dobroQuadrado))\n",
    "\n"
   ]
  },
  {
   "cell_type": "markdown",
   "metadata": {},
   "source": [
    "#### Faça um Programa que pergunte quanto você ganha por hora e o número de horas trabalhadas no mês. Calcule e mostre o total do seu salário no referido mês."
   ]
  },
  {
   "cell_type": "code",
   "execution_count": 28,
   "metadata": {},
   "outputs": [
    {
     "name": "stdout",
     "output_type": "stream",
     "text": [
      "30\n",
      "160\n",
      "salario mensal: 4800\n"
     ]
    }
   ],
   "source": [
    "valorHora = int(input())\n",
    "horas = int(input())\n",
    "\n",
    "salarioMensal = valorHora * horas\n",
    "print ('salario mensal: ' + str(salarioMensal))\n",
    "\n"
   ]
  },
  {
   "cell_type": "markdown",
   "metadata": {},
   "source": [
    "#### Faça um Programa que peça a temperatura em graus Farenheit, transforme e mostre a temperatura em graus Celsius.\n",
    "#####       C = (5 * (F-32) / 9). "
   ]
  },
  {
   "cell_type": "code",
   "execution_count": 36,
   "metadata": {},
   "outputs": [
    {
     "name": "stdout",
     "output_type": "stream",
     "text": [
      "98\n",
      "farenheit: 98 - celsius: 36.666666666666664\n"
     ]
    }
   ],
   "source": [
    "farenheit = int(input())\n",
    "\n",
    "celsius = 5 * (farenheit - 32) / 9\n",
    "\n",
    "print ('farenheit: ' + str(farenheit) + ' - celsius: ' + str(celsius))"
   ]
  },
  {
   "cell_type": "markdown",
   "metadata": {},
   "source": [
    "    \n",
    "    \n",
    "    \n",
    "    \n",
    "    \n",
    "    Faça um Programa que peça a temperatura em graus Celsius, transforme e mostre em graus Farenheit.\n",
    "    Faça um Programa que peça 2 números inteiros e um número real. Calcule e mostre:\n",
    "        o produto do dobro do primeiro com metade do segundo .\n",
    "        a soma do triplo do primeiro com o terceiro.\n",
    "        o terceiro elevado ao cubo. \n",
    "    Tendo como dados de entrada a altura de uma pessoa, construa um algoritmo que calcule seu peso ideal, usando a seguinte fórmula: (72.7*altura) - 58\n",
    "    Tendo como dado de entrada a altura (h) de uma pessoa, construa um algoritmo que calcule seu peso ideal, utilizando as seguintes fórmulas:\n",
    "        Para homens: (72.7*h) - 58\n",
    "        Para mulheres: (62.1*h) - 44.7 \n",
    "\n",
    "    João Papo-de-Pescador, homem de bem, comprou um microcomputador para controlar o rendimento diário de seu trabalho. Toda vez que ele traz um peso de peixes maior que o estabelecido pelo regulamento de pesca do estado de São Paulo (50 quilos) deve pagar uma multa de R$ 4,00 por quilo excedente. João precisa que você faça um programa que leia a variável peso (peso de peixes) e calcule o excesso. Gravar na variável excesso a quantidade de quilos além do limite e na variável multa o valor da multa que João deverá pagar. Imprima os dados do programa com as mensagens adequadas.\n",
    "    Faça um Programa que pergunte quanto você ganha por hora e o número de horas trabalhadas no mês. Calcule e mostre o total do seu salário no referido mês, sabendo-se que são descontados 11% para o Imposto de Renda, 8% para o INSS e 5% para o sindicato, faça um programa que nos dê:\n",
    "        salário bruto.\n",
    "        quanto pagou ao INSS.\n",
    "        quanto pagou ao sindicato.\n",
    "        o salário líquido.\n",
    "        calcule os descontos e o salário líquido, conforme a tabela abaixo:\n",
    "\n",
    "        + Salário Bruto : R$\n",
    "        - IR (11%) : R$\n",
    "        - INSS (8%) : R$\n",
    "        - Sindicato ( 5%) : R$\n",
    "        = Salário Liquido : R$\n",
    "\n",
    "        Obs.: Salário Bruto - Descontos = Salário Líquido. \n",
    "    Faça um programa para uma loja de tintas. O programa deverá pedir o tamanho em metros quadrados da área a ser pintada. Considere que a cobertura da tinta é de 1 litro para cada 3 metros quadrados e que a tinta é vendida em latas de 18 litros, que custam R$ 80,00. Informe ao usuário a quantidades de latas de tinta a serem compradas e o preço total.\n",
    "    Faça um Programa para uma loja de tintas. O programa deverá pedir o tamanho em metros quadrados da área a ser pintada. Considere que a cobertura da tinta é de 1 litro para cada 6 metros quadrados e que a tinta é vendida em latas de 18 litros, que custam R$ 80,00 ou em galões de 3,6 litros, que custam R$ 25,00.\n",
    "        Informe ao usuário as quantidades de tinta a serem compradas e os respectivos preços em 3 situações:\n",
    "        comprar apenas latas de 18 litros;\n",
    "        comprar apenas galões de 3,6 litros;\n",
    "        misturar latas e galões, de forma que o preço seja o menor. Acrescente 10% de folga e sempre arredonde os valores para cima, isto é, considere latas cheias. \n",
    "    Faça um programa que peça o tamanho de um arquivo para download (em MB) e a velocidade de um link de Internet (em Mbps), calcule e informe o tempo aproximado de download do arquivo usando este link (em minutos). "
   ]
  },
  {
   "cell_type": "code",
   "execution_count": null,
   "metadata": {},
   "outputs": [],
   "source": []
  },
  {
   "cell_type": "code",
   "execution_count": null,
   "metadata": {},
   "outputs": [],
   "source": []
  }
 ],
 "metadata": {
  "kernelspec": {
   "display_name": "Python 3",
   "language": "python",
   "name": "python3"
  },
  "language_info": {
   "codemirror_mode": {
    "name": "ipython",
    "version": 3
   },
   "file_extension": ".py",
   "mimetype": "text/x-python",
   "name": "python",
   "nbconvert_exporter": "python",
   "pygments_lexer": "ipython3",
   "version": "3.7.2"
  }
 },
 "nbformat": 4,
 "nbformat_minor": 2
}
